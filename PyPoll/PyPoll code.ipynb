{
 "cells": [
  {
   "cell_type": "code",
   "execution_count": 54,
   "id": "32352da1",
   "metadata": {},
   "outputs": [
    {
     "name": "stdout",
     "output_type": "stream",
     "text": [
      "['Ballot ID', 'County', 'Candidate']\n",
      "369711\n",
      "['Charles Casper Stockham', 'Diana DeGette', 'Raymon Anthony Doane']\n",
      "[85213, 272892, 11606]\n",
      "[23.05, 73.81, 3.14]\n",
      "Diana DeGette\n"
     ]
    }
   ],
   "source": [
    "import csv\n",
    "\n",
    "#Read csv file and writes to lists\n",
    "file_path = 'C:/Users/raols/OneDrive/Desktop/Bootcamp/python-challenge/PyPoll/Resources/election_data.csv'\n",
    "\n",
    "#variables\n",
    "cand_list = []\n",
    "vote_tally = []\n",
    "vote_perc = []\n",
    "cand0 = 0\n",
    "cand1 = 0\n",
    "cand2 = 0\n",
    "#opens file\n",
    "with open(file_path) as election_file:\n",
    "    e_data = csv.reader(election_file,delimiter = ',')\n",
    "    csvheader=next(e_data)\n",
    "    print(csvheader)\n",
    "    e_data = list(e_data)\n",
    "    \n",
    "    #counts number of rows for month count and prints   \n",
    "    row_count = sum(1 for row in e_data)\n",
    "    print(row_count)\n",
    "    \n",
    "    #creates list of unique candidates\n",
    "    for row in e_data:\n",
    "        if row[2] not in cand_list:\n",
    "            cand_list.append(row[2])\n",
    "    print(cand_list)\n",
    "\n",
    "#Tallies count for each candidate and stores in separate variable    \n",
    "    for row in e_data:\n",
    "        if row[2] == cand_list[0]:\n",
    "            cand0 += 1\n",
    "        if row[2] == cand_list[1]:\n",
    "            cand1 += 1            \n",
    "        if row[2] == cand_list[2]:\n",
    "            cand2 += 1            \n",
    "    vote_tally = [cand0,cand1,cand2]\n",
    "    print(vote_tally) \n",
    "    vote_perc = [round(cand0/row_count*100,2),round(cand1/row_count*100,2),round(cand2/row_count*100,2)]\n",
    "    print(vote_perc)\n",
    "\n",
    "    #     Creates dictionary to hold results\n",
    "    results = {cand_list[0]: vote_perc[0], cand_list[1]: vote_perc[1],cand_list[2]: vote_perc[2]}\n",
    "    \n",
    "    #assesses winner\n",
    "    def test(results):\n",
    "        return max(results, key = results.get)\n",
    "    winner =test(results)\n",
    "    print(winner)\n",
    "    \n",
    "lines = [f'There were {row_count} votes',f'Results were {cand_list[0]} got {vote_tally[0]} or {vote_perc[0]} percent',f'{cand_list[1]} got {vote_tally[1]} or {vote_perc[1]} percent', f'{cand_list[2]} got {vote_tally[2]} or {vote_perc[2]} percent.',f'The winner is {winner}']\n",
    "with open('results.txt', 'w') as f:\n",
    "    for line in lines:\n",
    "        f.write(line)\n",
    "        f.write('\\n')"
   ]
  },
  {
   "cell_type": "code",
   "execution_count": 47,
   "id": "79841b03",
   "metadata": {},
   "outputs": [
    {
     "data": {
      "text/plain": [
       "{'Charles Casper Stockham': 23.05,\n",
       " 'Diana DeGette': 73.81,\n",
       " 'Raymon Anthony Doane': 3.14}"
      ]
     },
     "execution_count": 47,
     "metadata": {},
     "output_type": "execute_result"
    }
   ],
   "source": [
    "results"
   ]
  },
  {
   "cell_type": "code",
   "execution_count": 48,
   "id": "91e3d918",
   "metadata": {},
   "outputs": [
    {
     "name": "stdout",
     "output_type": "stream",
     "text": [
      "Diana DeGette\n"
     ]
    }
   ],
   "source": [
    "def test(results):\n",
    "  return max(results, key = results.get)\n",
    "print(test(results))   "
   ]
  },
  {
   "cell_type": "code",
   "execution_count": null,
   "id": "e0af438f",
   "metadata": {},
   "outputs": [],
   "source": []
  }
 ],
 "metadata": {
  "kernelspec": {
   "display_name": "Python 3 (ipykernel)",
   "language": "python",
   "name": "python3"
  },
  "language_info": {
   "codemirror_mode": {
    "name": "ipython",
    "version": 3
   },
   "file_extension": ".py",
   "mimetype": "text/x-python",
   "name": "python",
   "nbconvert_exporter": "python",
   "pygments_lexer": "ipython3",
   "version": "3.11.5"
  }
 },
 "nbformat": 4,
 "nbformat_minor": 5
}
